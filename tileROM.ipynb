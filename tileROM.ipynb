from PIL import Image
from collections import Counter

def get_dominant_color(block):
    """
    Calculate the most frequent color in a block.
    Args:
        block (PIL.Image): A cropped section of the image.
    Returns:
        tuple: The dominant RGB color in the block.
    """
    pixels = list(block.getdata())
    color_counts = Counter(pixels)
    dominant_color = color_counts.most_common(1)[0][0]
    return dominant_color

def rgb_to_6bit(rgb):
    """
    Convert an RGB color to a 6-bit representation.
    Args:
        rgb (tuple): A (R, G, B) tuple with 8-bit values (0-255).
    Returns:
        str: A 6-bit binary string.
    """
    r, g, b = rgb
    r_2bit = r >> 6  # Reduce 8-bit to 2-bit
    g_2bit = g >> 6
    b_2bit = b >> 6
    return f"{r_2bit:02b}{g_2bit:02b}{b_2bit:02b}"

def generate_elsif_with_border(image_path, grid_width=20, grid_height=15):
    """
    Generate a 20x15 grid coordinate system with dominant colors and dark green borders using `elsif`.
    Args:
        image_path (str): Path to the input image.
        grid_width (int): Number of columns in the grid (default 20).
        grid_height (int): Number of rows in the grid (default 15).
    """
    # Open the image
    image = Image.open(image_path).convert("RGB")
    image_width, image_height = image.size

    # Calculate block size
    block_width = image_width // grid_width
    block_height = image_height // grid_height

    # Define the dark green color (e.g., RGB: (0, 128, 0))
    dark_green_rgb = (0, 128, 0)
    dark_green_6bit = rgb_to_6bit(dark_green_rgb)

    # Start building VHDL code
    vhdl_code = []
    vhdl_code.append("if rising_edge(clk) then")
    vhdl_code.append("    if valid = '0' then")
    vhdl_code.append("        rgb_out <= \"000000\"; -- Default to black")

    first_statement = True

    # Iterate through the grid
    for row in range(grid_height):
        for col in range(grid_width):
            # Determine if it's a border
            if col == 0 or row == 0 or col == grid_width - 1 or row == grid_height - 1:
                color_6bit = dark_green_6bit
            else:
                # Crop the block corresponding to the current coordinate
                x_start = col * block_width
                y_start = row * block_height
                x_end = x_start + block_width
                y_end = y_start + block_height

                block = image.crop((x_start, y_start, x_end, y_end))

                # Calculate the dominant color for the block
                dominant_color = get_dominant_color(block)

                # Convert the color to 6-bit
                color_6bit = rgb_to_6bit(dominant_color)

            # Add condition to the VHDL code
            if first_statement:
                vhdl_code.append(f"        elsif address_x = {col} and address_y = {row} then")
                first_statement = False
            else:
                vhdl_code.append(f"        elsif address_x = {col} and address_y = {row} then")
            vhdl_code.append(f"            rgb_out <= \"{color_6bit}\"; -- Coordinate ({col}, {row})")

    # Add default case
    vhdl_code.append("        else")
    vhdl_code.append("            rgb_out <= \"000000\"; -- Default to black")
    vhdl_code.append("        end if;")
    vhdl_code.append("    end if;")
    vhdl_code.append("end if;")

    # Write to a file
    with open("grid_output_with_full_border.vhdl", "w") as file:
        file.write("\n".join(vhdl_code))

    print("Grid-based VHDL code with border and `elsif` statements has been generated and saved to 'grid_output_with_full_border.vhdl'.")

# Call the function with your image
generate_elsif_with_border("New Piskel (3).png")
